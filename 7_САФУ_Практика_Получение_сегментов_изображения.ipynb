{
  "nbformat": 4,
  "nbformat_minor": 0,
  "metadata": {
    "colab": {
      "name": "7. САФУ. Практика. Получение сегментов изображения",
      "provenance": [],
      "collapsed_sections": [
        "pk0hwEv01xg9"
      ],
      "include_colab_link": true
    },
    "kernelspec": {
      "name": "python3",
      "display_name": "Python 3"
    }
  },
  "cells": [
    {
      "cell_type": "markdown",
      "metadata": {
        "id": "view-in-github",
        "colab_type": "text"
      },
      "source": [
        "<a href=\"https://colab.research.google.com/github/VoroncovRoman/Cutting_image/blob/main/7_%D0%A1%D0%90%D0%A4%D0%A3_%D0%9F%D1%80%D0%B0%D0%BA%D1%82%D0%B8%D0%BA%D0%B0_%D0%9F%D0%BE%D0%BB%D1%83%D1%87%D0%B5%D0%BD%D0%B8%D0%B5_%D1%81%D0%B5%D0%B3%D0%BC%D0%B5%D0%BD%D1%82%D0%BE%D0%B2_%D0%B8%D0%B7%D0%BE%D0%B1%D1%80%D0%B0%D0%B6%D0%B5%D0%BD%D0%B8%D1%8F.ipynb\" target=\"_parent\"><img src=\"https://colab.research.google.com/assets/colab-badge.svg\" alt=\"Open In Colab\"/></a>"
      ]
    },
    {
      "cell_type": "markdown",
      "metadata": {
        "id": "E5GrDkbblGsp"
      },
      "source": [
        "# ИНФОРМАЦИЯ \n",
        "  \n",
        "САФУ. ВШИТиАС. ИСИТ. 351617  \n",
        "Воронцов Роман Антонович  \n",
        "   \n",
        "**Название документа:** Untitled12   \n",
        "**Дата создания:** 11.05.2020  \n",
        "**Статус:** завершен\n",
        "  \n",
        "**Описание**.  \n",
        "Производственная практика (3 курс). Задание 2 (29.06.19 - 01.07.19)  \n",
        "  \n",
        "Данный фалй содержит код программы по разрезанию избражения на сегменты \n",
        "указанной величины"
      ]
    },
    {
      "cell_type": "markdown",
      "metadata": {
        "id": "pk0hwEv01xg9"
      },
      "source": [
        "# Версия 3 \n",
        "Надо добавить работу со смещением от начальной точки  "
      ]
    },
    {
      "cell_type": "markdown",
      "metadata": {
        "id": "qh7oLGLsBMyL"
      },
      "source": [
        "# Версия 2 \n",
        "от 18.05.2020"
      ]
    },
    {
      "cell_type": "code",
      "metadata": {
        "id": "i2dERkpNjKps",
        "colab": {
          "base_uri": "https://localhost:8080/"
        },
        "outputId": "430cd053-39e7-4e43-9d17-5e00283d67f6"
      },
      "source": [
        "# Подключаемся к Google Drive\n",
        "from google.colab import drive\n",
        "drive.mount('/content/drive')\n"
      ],
      "execution_count": null,
      "outputs": [
        {
          "output_type": "stream",
          "text": [
            "Mounted at /content/drive\n"
          ],
          "name": "stdout"
        }
      ]
    },
    {
      "cell_type": "code",
      "metadata": {
        "id": "QnxhutOXAfep"
      },
      "source": [
        "# Импорт библиотек\n",
        "import os  # для работы с файлами\n",
        "import shutil  # для работы с файлами\n",
        "from PIL import Image  # для картинок\n",
        "from IPython.display import clear_output  # нужен для очистки диспля\n"
      ],
      "execution_count": null,
      "outputs": []
    },
    {
      "cell_type": "code",
      "metadata": {
        "id": "mWlCU9-vBqNl",
        "colab": {
          "base_uri": "https://localhost:8080/"
        },
        "outputId": "e74cca0b-30c8-4171-c198-a0a5c5b318bd"
      },
      "source": [
        "# Сжатие одной картинки\n",
        "def cutting_image(oi, si, wi, he):\n",
        "\n",
        "    img = Image.open(oi)\n",
        "    w, h = img.size\n",
        "    \n",
        "    # Проверка на ниличие параметров ширины и высоты\n",
        "    if wi and he:\n",
        "        max_size = (wi, he)\n",
        "    elif wi:\n",
        "        max_size = (wi, h)\n",
        "    elif he:\n",
        "        max_size = (w, he)\n",
        "    else:\n",
        "        # Не указана длина или ширина\n",
        "        raise RuntimeError('Не указана длина или ширина')\n",
        "  \n",
        "    # Вычисляем, сколько целых кусков пулучим из изображения при указанном\n",
        "    # размере\n",
        "    x_wi = w // wi\n",
        "    y_he = h // he\n",
        "\n",
        "    # Режим фотографию на кусочки\n",
        "    for y in range(0,y_he): # вспоминаем про количество частей\n",
        "        for x in range(0,x_wi):\n",
        "            area = (0 + (wi * x), \n",
        "                    0 + (he * y), \n",
        "                    wi + (wi * x), \n",
        "                    he + (he * y))\n",
        "            c_img = img.crop(area)\n",
        "            \n",
        "            # Получаем имя файла\n",
        "            base_name=os.path.basename(oi)\n",
        "            split_name = os.path.splitext(base_name)\n",
        "            \n",
        "            \"\"\"\n",
        "            Пример:\n",
        "            Имеем путь oi = C:/Users/user/Desktop/IMG_1097.JPG\n",
        "    \n",
        "            >>> img_name=os.path.basename(oi)\n",
        "            >>> img_name\n",
        "            IMG_1097.JPG\n",
        "    \n",
        "            >>> os.path.splitext(img_name)\n",
        "            ('IMG_1097','.JPG')\n",
        "\n",
        "            >>> os.path.splitext(img_name)[0]\n",
        "            IMG_1097\n",
        "\n",
        "            Исчточник: [1]\n",
        "            \"\"\"\n",
        "            \n",
        "            image_name = split_name[0] + \"_y{0}-x{1}\".format(y,x) + split_name[1]\n",
        "            #print(image_name)\n",
        "            #print(os.path.join(si,image_name))\n",
        "            c_img.save(os.path.join(si,image_name))\n",
        "            \n",
        "\n",
        "# Сжатие папки картинок\n",
        "def cutting_folder(oi, si, wi, he):\n",
        "    \n",
        "    # Создаем папку cutting_image_result, куда сложим результаты\n",
        "    #base = os.path.join(si, 'cutting_image_result')\n",
        "    #try:\n",
        "    #    os.mkdir(base)\n",
        "    #except OSError:\n",
        "    #    pass\n",
        "    \n",
        "    # Списки для хранения путей\n",
        "    old_list = []\n",
        "    new_list = []\n",
        "    \n",
        "    # Пробигаемся по содержанию источника original(oi) и записываем его пути в old_list\n",
        "    for root, dirs, files in os.walk(oi):\n",
        "        old_list.append(root)\n",
        "    \n",
        "    # В старых путях заменяем original(oi) на base, а результат записываем в new_list\n",
        "    for i in old_list:\n",
        "        new_list.append(i.replace(oi, si))\n",
        "        \n",
        "    \"\"\"\n",
        "    Было: \n",
        "    ['C:\\\\Users\\\\user\\\\Desktop\\\\0',\n",
        "     'C:\\\\Users\\\\user\\\\Desktop\\\\0\\\\1',\n",
        "     'C:\\\\Users\\\\user\\\\Desktop\\\\0\\\\2']\n",
        "    \n",
        "    Стало:\n",
        "    ['C:\\\\Users\\\\user\\\\Desktop\\\\compress_image_result',\n",
        "     'C:\\\\Users\\\\user\\\\Desktop\\\\compress_image_result\\\\1',\n",
        "     'C:\\\\Users\\\\user\\\\Desktop\\\\compress_image_result\\\\2']\n",
        "    \"\"\"\n",
        "        \n",
        "    #print (new_list)\n",
        "    \n",
        "    # По новым путям создаем папки, в которые будем помещать обработку\n",
        "    for i in new_list:\n",
        "        try:\n",
        "            os.mkdir(i)\n",
        "        except OSError:\n",
        "            pass\n",
        "    \n",
        "    # Попытаемся обработать    \n",
        "    for i in old_list: # Проходим по папкам в списке \"old_list\"\n",
        "        #print ('i = ', i)\n",
        "        for j in os.listdir(i): # Проходим по файлам в папке i\n",
        "            #print ('j = ', j)\n",
        "            #print (os.path.join(i, j))\n",
        "            if os.path.isfile(os.path.join(i, j)): # если элемент - файл -> обрабатываем            \n",
        "                cutting_image(os.path.join(i, j), i.replace(oi, si), wi, he)\n",
        "\n",
        "\n",
        "\n",
        "\n",
        "# Функция разрезки картинок\n",
        "def cutting(original_images = None, save_image = None, \n",
        "                   width=None, height=None):    \n",
        "    print ('Обработка изображений...')\n",
        "    \n",
        "    # Проверка директорий\n",
        "    if original_images == None:\n",
        "        raise RuntimeError('Треюуется указать путь к источнику с картинками')\n",
        "    if save_image == None:\n",
        "        raise RuntimeError('Треюуется указать путь сохранения')\n",
        "     \n",
        "    # Проверяем файл или папка [2]\n",
        "    if os.path.isfile(original_images):\n",
        "        cutting_image(original_images, save_image, width, height)\n",
        "    elif os.path.isdir(original_images):\n",
        "        cutting_folder(original_images, save_image, width, height)\n",
        "    else:\n",
        "        raise RuntimeError('Данного пути не существует')\n",
        "    \n",
        "    #clear_output()\n",
        "    print ('Обработка завершена')\n",
        "    \n",
        "if __name__ == '__main__':\n",
        "    \n",
        "    # /content/drive/My Drive/U-Net/Image\n",
        "    # /content/drive/My Drive/U-Net/Image1\n",
        "    cutting(original_images=r'/content/drive/My Drive/Image',\n",
        "                save_image=r'/content/drive/My Drive/ImageOut',\n",
        "                width=224, height=224)\n",
        "    "
      ],
      "execution_count": null,
      "outputs": [
        {
          "output_type": "stream",
          "text": [
            "Обработка изображений...\n",
            "Обработка завершена\n"
          ],
          "name": "stdout"
        }
      ]
    },
    {
      "cell_type": "markdown",
      "metadata": {
        "id": "OI9cqmzHimRU"
      },
      "source": [
        "# Версия 1"
      ]
    },
    {
      "cell_type": "code",
      "metadata": {
        "id": "SCtHjguglDD_",
        "colab": {
          "base_uri": "https://localhost:8080/",
          "height": 122
        },
        "outputId": "b4bdb3df-0390-41cb-9719-0e0b2f1c80b8"
      },
      "source": [
        "# Подключаемся к Google Drive\n",
        "from google.colab import drive\n",
        "drive.mount('/content/drive')\n"
      ],
      "execution_count": null,
      "outputs": [
        {
          "output_type": "stream",
          "text": [
            "Go to this URL in a browser: https://accounts.google.com/o/oauth2/auth?client_id=947318989803-6bn6qk8qdgf4n4g3pfee6491hc0brc4i.apps.googleusercontent.com&redirect_uri=urn%3aietf%3awg%3aoauth%3a2.0%3aoob&response_type=code&scope=email%20https%3a%2f%2fwww.googleapis.com%2fauth%2fdocs.test%20https%3a%2f%2fwww.googleapis.com%2fauth%2fdrive%20https%3a%2f%2fwww.googleapis.com%2fauth%2fdrive.photos.readonly%20https%3a%2f%2fwww.googleapis.com%2fauth%2fpeopleapi.readonly\n",
            "\n",
            "Enter your authorization code:\n",
            "··········\n",
            "Mounted at /content/drive\n"
          ],
          "name": "stdout"
        }
      ]
    },
    {
      "cell_type": "code",
      "metadata": {
        "id": "1pa266JMAisz"
      },
      "source": [
        "# Для очистки дисплея\n",
        "from IPython.display import clear_output\n",
        "# clear_output()\n",
        "\n",
        "# Для работы с файлами\n",
        "import os, shutil\n",
        "\n",
        "# Для обработки фотографий\n",
        "from PIL import Image\n",
        "\n",
        "# Создаем текстовый документ и записываем в него строку\n",
        "#with open('/content/drive/My Drive/foo.txt', 'w') as f:\n",
        "#  f.write('Hello Google Drive!')\n",
        "\n",
        "# Получить содержание файла \n",
        "#!cat '/content/drive/My Drive/foo.txt'\n",
        "# Out: Hello Google Drive!\n",
        "\n",
        "# Получить содержание папки\n",
        "#!ls '/content/drive/My Drive/С коптера'\n",
        "# Out: left  right"
      ],
      "execution_count": null,
      "outputs": []
    },
    {
      "cell_type": "code",
      "metadata": {
        "id": "JOYHrhxwuDe0"
      },
      "source": [
        "\n",
        "# Зайдем в папку \"С коптера/left\" и узнаем количество фотографий\n",
        "len(os.listdir(path = r'/content/drive/My Drive/С коптера/right'))\n",
        "#os.listdir(path = r'/content/drive/My Drive/С коптера/left')\n",
        "\n",
        "# Создаем текстовый документ и записываем в него строку\n",
        "#with open('/content/drive/My Drive/foo.txt', 'w') as f:\n",
        "#  for i in os.listdir(path = r'/content/drive/My Drive/С коптера/left'):\n",
        "#    f.write(i)\n",
        "\n",
        "for i in os.listdir(path = r'/content/drive/My Drive/С коптера/left'):\n",
        "  print (i)"
      ],
      "execution_count": null,
      "outputs": []
    },
    {
      "cell_type": "code",
      "metadata": {
        "id": "9qVEgx8TvF9a",
        "colab": {
          "base_uri": "https://localhost:8080/",
          "height": 68
        },
        "outputId": "dc0da41c-35a6-4758-fde1-b867178ebddb"
      },
      "source": [
        "# Исходные данные\n",
        "original_dataset_dir = r'/content/drive/My Drive/С коптера'\n",
        "original_left_dir = os.path.join(original_dataset_dir, 'left')\n",
        "original_right_dir = os.path.join(original_dataset_dir, 'right')\n",
        "\n",
        "# Создаем папку для сохранения результата\n",
        "base_dir = r'/content/drive/My Drive/С коптера/Kopter_cut'\n",
        "try:\n",
        "    os.mkdir(base_dir)\n",
        "except OSError:\n",
        "    pass\n",
        "\n",
        "# Создаем папки для левого и правого результата\n",
        "try:\n",
        "    left_dir = os.path.join(base_dir, 'left')\n",
        "    os.mkdir(left_dir)\n",
        "    right_dir = os.path.join(base_dir, 'right')\n",
        "    os.mkdir(right_dir)\n",
        "except OSError:\n",
        "    pass\n",
        "  \n",
        "# сделаем маленький счетчик для цикла\n",
        "a_len = 1 # номер обработанной фотографии\n",
        "total_len = len(os.listdir(original_left_dir)) # всего фотографий\n",
        "\n",
        "# Проходим по паке left в папке Kopter\n",
        "for i in os.listdir(original_left_dir):\n",
        "    \n",
        "    # Режим фотографию на кусочки\n",
        "    img = Image.open(os.path.join(original_left_dir, i))\n",
        "    for y in range(0,8):\n",
        "        for x in range(0,11):\n",
        "            area = (0 + (512 * x), 0 + (512 * y), 512 + (512 * x), 512 + (512 * y))\n",
        "            c_img = img.crop(area)\n",
        "            c_img.save(r\"/content/drive/My Drive/С коптера/Kopter_cut/left/{0}_y{1}-x{2}.JPG\".format (i, y, x))\n",
        "    \n",
        "    # Сообщаем о прогрессе\n",
        "    print ('Фотография {0}/{1}: {2} - обработана'.format(a_len, total_len, i))\n",
        "    a_len += 1\n",
        "\n",
        "# обновляем счетчик\n",
        "a_len = 1\n",
        "total_len = len(os.listdir(original_right_dir))\n",
        "\n",
        "clear_output() # Очищаем дисплей\n",
        "print ('Обработка папки left завершена')\n",
        "\n",
        "# Проходим по папке right в папке Kopter\n",
        "for i in os.listdir(original_right_dir):\n",
        "    \n",
        "    # Режим фотографию на кусочки\n",
        "    img = Image.open(os.path.join(original_right_dir, i))\n",
        "    for y in range(0,8):\n",
        "        for x in range(0,11):\n",
        "            area = (0 + (512 * x), 0 + (512 * y), 512 + (512 * x), 512 + (512 * y))\n",
        "            c_img = img.crop(area)\n",
        "            c_img.save(r\"/content/drive/My Drive/С коптера/Kopter_cut/right/{0}_y{1}-x{2}.JPG\".format (i, y, x))\n",
        "            \n",
        "    # Сообщаем о прогрессе\n",
        "    print ('Фотография {0}/{1}: {2} - обработана'.format(a_len, total_len, i))\n",
        "    a_len += 1\n",
        "\n",
        "\n",
        "clear_output() # Очищаем дисплей\n",
        "print ('Обработка папки left завершена')\n",
        "print ('Обработка папки right завершена')\n",
        "print ('Обработка завершена')"
      ],
      "execution_count": null,
      "outputs": [
        {
          "output_type": "stream",
          "text": [
            "Обработка папки left завершена\n",
            "Обработка папки right завершена\n",
            "Обработка завершена\n"
          ],
          "name": "stdout"
        }
      ]
    }
  ]
}